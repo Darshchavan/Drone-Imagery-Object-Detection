{
  "nbformat": 4,
  "nbformat_minor": 0,
  "metadata": {
    "colab": {
      "provenance": [],
      "gpuType": "T4"
    },
    "kernelspec": {
      "name": "python3",
      "display_name": "Python 3"
    },
    "language_info": {
      "name": "python"
    },
    "accelerator": "GPU"
  },
  "cells": [
    {
      "cell_type": "code",
      "execution_count": null,
      "metadata": {
        "id": "Hllt5F8TOgan",
        "collapsed": true
      },
      "outputs": [],
      "source": [
        "!pip install ultralytics"
      ]
    },
    {
      "cell_type": "code",
      "source": [
        "import ultralytics"
      ],
      "metadata": {
        "id": "K40emE9zPoPC"
      },
      "execution_count": null,
      "outputs": []
    },
    {
      "cell_type": "code",
      "source": [
        "#command for model training\n",
        "!yolo task=detect mode=train model=yolov8s.pt data=/content/drive/MyDrive/yolov8/dataset.yaml epochs=100 imgsz=640 batch=8 project=/content/drive/MyDrive/yolov8/Train_results name=MYresults"
      ],
      "metadata": {
        "id": "Pi7bV5CMPxSf"
      },
      "execution_count": null,
      "outputs": []
    },
    {
      "cell_type": "code",
      "source": [
        "#command for resume the training of model\n",
        "!yolo train resume model=/content/drive/MyDrive/yolov8/Train_results/MYresults3/weights/last.pt"
      ],
      "metadata": {
        "id": "7fVgGYyoe1z8"
      },
      "execution_count": null,
      "outputs": []
    },
    {
      "cell_type": "code",
      "source": [
        "#command to detect objects in entire test data\n",
        "!yolo task=detect mode=predict model=/content/drive/MyDrive/yolov8/Train_results/MYresults2/weights/best.pt conf=0.35 source=/content/drive/MyDrive/yolov8/MYDATANEW/images/test"
      ],
      "metadata": {
        "id": "fj24wpEpUET1"
      },
      "execution_count": null,
      "outputs": []
    },
    {
      "cell_type": "code",
      "source": [
        "#command to detect objects in IMAGE data\n",
        "!yolo task=detect mode=predict model=/content/drive/MyDrive/yolov8/Train_results/MYresults2/weights/best.pt conf=0.35 source=/content/drive/MyDrive/yolov8/MYDATANEW/0000006_00611_d_0000002.jpg"
      ],
      "metadata": {
        "id": "-yrxdhqZ_ud2"
      },
      "execution_count": null,
      "outputs": []
    },
    {
      "cell_type": "code",
      "source": [
        "#command to copy detected objects images from collab directory to google drive folder\n",
        "#!cp -r /content/runs/detect/predict2 /content/drive/MyDrive/yolov8/Train_results/MYresults2/OUTPUT"
      ],
      "metadata": {
        "id": "BFOpSNE_g2uG"
      },
      "execution_count": null,
      "outputs": []
    }
  ]
}